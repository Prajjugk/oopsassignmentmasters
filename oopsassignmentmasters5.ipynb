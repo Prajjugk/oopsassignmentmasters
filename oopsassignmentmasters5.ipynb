{
 "cells": [
  {
   "cell_type": "markdown",
   "id": "53fa6965",
   "metadata": {},
   "source": [
    "# Assignment\n",
    "Q1. Explain Class and Object with respect to Object-Oriented Programming. Give a suitable example."
   ]
  },
  {
   "cell_type": "markdown",
   "id": "37cba689",
   "metadata": {},
   "source": [
    "In object-oriented programming (OOP), a class is a blueprint or template that defines the structure and behavior of objects. An object, on the other hand, is an instance of a class—a concrete representation of the class with specific data and behavior."
   ]
  },
  {
   "cell_type": "code",
   "execution_count": 11,
   "id": "29fc9017",
   "metadata": {},
   "outputs": [],
   "source": [
    "class school:\n",
    "    def greeting(self):\n",
    "        print(\"Welcome to the school\")"
   ]
  },
  {
   "cell_type": "code",
   "execution_count": 12,
   "id": "9c6b2b9a",
   "metadata": {},
   "outputs": [],
   "source": [
    "Rohan = school()"
   ]
  },
  {
   "cell_type": "code",
   "execution_count": 13,
   "id": "1cda45b4",
   "metadata": {},
   "outputs": [
    {
     "name": "stdout",
     "output_type": "stream",
     "text": [
      "Welcome to the school\n"
     ]
    }
   ],
   "source": [
    "Rohan.greeting()"
   ]
  },
  {
   "cell_type": "code",
   "execution_count": null,
   "id": "b9a738d8",
   "metadata": {},
   "outputs": [],
   "source": []
  },
  {
   "cell_type": "markdown",
   "id": "f60c8b2d",
   "metadata": {},
   "source": [
    "Q2. Name the four pillars of OOPs."
   ]
  },
  {
   "cell_type": "markdown",
   "id": "03bec997",
   "metadata": {},
   "source": [
    "1.Encapsulation\n",
    "2.Polymorphism\n",
    "3.Inheritance\n",
    "4.Abstraction"
   ]
  },
  {
   "cell_type": "code",
   "execution_count": null,
   "id": "e89572e0",
   "metadata": {},
   "outputs": [],
   "source": []
  },
  {
   "cell_type": "markdown",
   "id": "cb5e13fa",
   "metadata": {},
   "source": [
    "Q3. Explain why the __init__() function is used. Give a suitable example."
   ]
  },
  {
   "cell_type": "markdown",
   "id": "414b59ea",
   "metadata": {},
   "source": [
    "The __init__() function, also known as the constructor, is used in object-oriented programming to initialize the attributes (data members) of an object when it is created from a class. It's called automatically when an object is instantiated and allows you to set initial values for the object's attributes. This function ensures that the object is properly set up and ready for use.\n",
    "Example"
   ]
  },
  {
   "cell_type": "code",
   "execution_count": 38,
   "id": "e9f3a3a7",
   "metadata": {},
   "outputs": [],
   "source": [
    "class Registration:\n",
    "    \n",
    "    def __init__(self , phone_number, email, student_id ):\n",
    "        \n",
    "        self.phone_number = phone_number\n",
    "        self.email = email\n",
    "        self.student_id = student_id\n",
    "        \n",
    "    def Details(self):\n",
    "        return self.phone_number, self.email, self.student_id"
   ]
  },
  {
   "cell_type": "code",
   "execution_count": 41,
   "id": "2164fa5e",
   "metadata": {},
   "outputs": [],
   "source": [
    "Mohan = Registration(9885639770,\"mohan@gmail.com\",122)"
   ]
  },
  {
   "cell_type": "code",
   "execution_count": 46,
   "id": "05c12064",
   "metadata": {},
   "outputs": [
    {
     "data": {
      "text/plain": [
       "9885639770"
      ]
     },
     "execution_count": 46,
     "metadata": {},
     "output_type": "execute_result"
    }
   ],
   "source": [
    "Mohan.phone_number"
   ]
  },
  {
   "cell_type": "code",
   "execution_count": 43,
   "id": "94dc0ed0",
   "metadata": {},
   "outputs": [
    {
     "data": {
      "text/plain": [
       "'mohan@gmail.com'"
      ]
     },
     "execution_count": 43,
     "metadata": {},
     "output_type": "execute_result"
    }
   ],
   "source": [
    "Mohan.email"
   ]
  },
  {
   "cell_type": "code",
   "execution_count": 44,
   "id": "2fa2e4ca",
   "metadata": {},
   "outputs": [
    {
     "data": {
      "text/plain": [
       "122"
      ]
     },
     "execution_count": 44,
     "metadata": {},
     "output_type": "execute_result"
    }
   ],
   "source": [
    "Mohan.student_id"
   ]
  },
  {
   "cell_type": "code",
   "execution_count": 45,
   "id": "788430c7",
   "metadata": {},
   "outputs": [
    {
     "data": {
      "text/plain": [
       "(9885639770, 'mohan@gmail.com', 122)"
      ]
     },
     "execution_count": 45,
     "metadata": {},
     "output_type": "execute_result"
    }
   ],
   "source": [
    "Mohan.Details()"
   ]
  },
  {
   "cell_type": "code",
   "execution_count": null,
   "id": "33c0ef47",
   "metadata": {},
   "outputs": [],
   "source": []
  },
  {
   "cell_type": "markdown",
   "id": "1de27d35",
   "metadata": {},
   "source": [
    "Q4. Why self is used in OOPs?"
   ]
  },
  {
   "cell_type": "markdown",
   "id": "b12281f8",
   "metadata": {},
   "source": [
    "In object-oriented programming (OOP), self is used as a reference to the instance of the class. It is a convention in many programming languages, including Python, and is used within methods to access and modify the attributes (data members) and methods (functions) of the same instance."
   ]
  },
  {
   "cell_type": "code",
   "execution_count": null,
   "id": "ad3e343d",
   "metadata": {},
   "outputs": [],
   "source": []
  },
  {
   "cell_type": "markdown",
   "id": "859dea9a",
   "metadata": {},
   "source": [
    "Q5. What is inheritance? Give an example for each type of inheritance."
   ]
  },
  {
   "cell_type": "markdown",
   "id": "fd9afeca",
   "metadata": {},
   "source": [
    "Inheritance is a fundamental concept in object-oriented programming (OOP) where a new class (called the subclass or derived class) is created by inheriting properties and behaviors from an existing class (called the superclass or base class). Inheritance allows the subclass to reuse and extend the functionalities of the superclass, promoting code reusability and organization.\n",
    "\n",
    "There are  types of inheritance\n",
    "1.Single inheritance\n",
    "2.Multilevel inheritance\n",
    "3.Multiple inheritance\n"
   ]
  },
  {
   "cell_type": "code",
   "execution_count": 1,
   "id": "2fbbc336",
   "metadata": {},
   "outputs": [
    {
     "data": {
      "text/plain": [
       "'Woof!'"
      ]
     },
     "execution_count": 1,
     "metadata": {},
     "output_type": "execute_result"
    }
   ],
   "source": [
    "#Single inheritance\n",
    "\n",
    "class Animal:\n",
    "    def speak(self):\n",
    "        pass\n",
    "\n",
    "class Dog(Animal):\n",
    "    def speak(self):\n",
    "        return \"Woof!\"\n",
    "    \n",
    "obj_dog = Dog()\n",
    "\n",
    "obj_dog.speak()\n"
   ]
  },
  {
   "cell_type": "code",
   "execution_count": 8,
   "id": "b8af1484",
   "metadata": {},
   "outputs": [
    {
     "data": {
      "text/plain": [
       "'Driving a car'"
      ]
     },
     "execution_count": 8,
     "metadata": {},
     "output_type": "execute_result"
    }
   ],
   "source": [
    "#Multilevel inheritance\n",
    "\n",
    "class Vehicle:\n",
    "    def drive(self):\n",
    "        pass\n",
    "\n",
    "class Car(Vehicle):\n",
    "    def drive1(self):\n",
    "        return \"Driving a car\"\n",
    "\n",
    "class ElectricCar(Car):\n",
    "    def drive2(self):\n",
    "        return \"Driving an electric car\"\n",
    "    \n",
    "    \n",
    "obj_car = Car()\n",
    "obj_car.drive1()\n",
    "\n"
   ]
  },
  {
   "cell_type": "code",
   "execution_count": 9,
   "id": "76136baa",
   "metadata": {},
   "outputs": [
    {
     "data": {
      "text/plain": [
       "'Driving an electric car'"
      ]
     },
     "execution_count": 9,
     "metadata": {},
     "output_type": "execute_result"
    }
   ],
   "source": [
    "obj_electricar = ElectricCar()\n",
    "obj_electricar.drive2()"
   ]
  },
  {
   "cell_type": "code",
   "execution_count": 10,
   "id": "be6e6006",
   "metadata": {},
   "outputs": [
    {
     "name": "stdout",
     "output_type": "stream",
     "text": [
      "A\n",
      "B\n"
     ]
    }
   ],
   "source": [
    "#multiple inheritance\n",
    "class A:\n",
    "    def show1(self):\n",
    "        return \"A\"\n",
    "\n",
    "class B:\n",
    "    def show2(self):\n",
    "        return \"B\"\n",
    "\n",
    "class C(A, B):\n",
    "    pass\n",
    "\n",
    "obj = C()\n",
    "print(obj.show1())\n",
    "print(obj.show2())"
   ]
  },
  {
   "cell_type": "code",
   "execution_count": null,
   "id": "40c0bccf",
   "metadata": {},
   "outputs": [],
   "source": []
  },
  {
   "cell_type": "code",
   "execution_count": null,
   "id": "d1d1a0fa",
   "metadata": {},
   "outputs": [],
   "source": []
  },
  {
   "cell_type": "code",
   "execution_count": null,
   "id": "6ae32be0",
   "metadata": {},
   "outputs": [],
   "source": []
  },
  {
   "cell_type": "code",
   "execution_count": null,
   "id": "e570b9cc",
   "metadata": {},
   "outputs": [],
   "source": []
  },
  {
   "cell_type": "code",
   "execution_count": null,
   "id": "a8eac2f3",
   "metadata": {},
   "outputs": [],
   "source": []
  },
  {
   "cell_type": "code",
   "execution_count": null,
   "id": "45e452cb",
   "metadata": {},
   "outputs": [],
   "source": []
  },
  {
   "cell_type": "code",
   "execution_count": null,
   "id": "5a8b9abe",
   "metadata": {},
   "outputs": [],
   "source": []
  },
  {
   "cell_type": "code",
   "execution_count": null,
   "id": "bdefa5b1",
   "metadata": {},
   "outputs": [],
   "source": []
  },
  {
   "cell_type": "code",
   "execution_count": null,
   "id": "7c3934b2",
   "metadata": {},
   "outputs": [],
   "source": []
  },
  {
   "cell_type": "code",
   "execution_count": null,
   "id": "d08ab356",
   "metadata": {},
   "outputs": [],
   "source": []
  },
  {
   "cell_type": "code",
   "execution_count": null,
   "id": "a69da273",
   "metadata": {},
   "outputs": [],
   "source": []
  },
  {
   "cell_type": "code",
   "execution_count": null,
   "id": "3d5148ed",
   "metadata": {},
   "outputs": [],
   "source": []
  },
  {
   "cell_type": "code",
   "execution_count": null,
   "id": "9c19e8f6",
   "metadata": {},
   "outputs": [],
   "source": []
  },
  {
   "cell_type": "code",
   "execution_count": null,
   "id": "c12f1156",
   "metadata": {},
   "outputs": [],
   "source": []
  },
  {
   "cell_type": "code",
   "execution_count": null,
   "id": "587bf8a2",
   "metadata": {},
   "outputs": [],
   "source": []
  },
  {
   "cell_type": "code",
   "execution_count": null,
   "id": "1d32044f",
   "metadata": {},
   "outputs": [],
   "source": []
  },
  {
   "cell_type": "code",
   "execution_count": null,
   "id": "b5640b54",
   "metadata": {},
   "outputs": [],
   "source": []
  },
  {
   "cell_type": "code",
   "execution_count": null,
   "id": "3a0e33ab",
   "metadata": {},
   "outputs": [],
   "source": []
  },
  {
   "cell_type": "code",
   "execution_count": null,
   "id": "cf2a4018",
   "metadata": {},
   "outputs": [],
   "source": []
  },
  {
   "cell_type": "code",
   "execution_count": null,
   "id": "26310d91",
   "metadata": {},
   "outputs": [],
   "source": []
  },
  {
   "cell_type": "code",
   "execution_count": null,
   "id": "2518abe4",
   "metadata": {},
   "outputs": [],
   "source": []
  },
  {
   "cell_type": "code",
   "execution_count": null,
   "id": "bb3c3fd7",
   "metadata": {},
   "outputs": [],
   "source": []
  },
  {
   "cell_type": "code",
   "execution_count": null,
   "id": "0695d1fd",
   "metadata": {},
   "outputs": [],
   "source": []
  },
  {
   "cell_type": "code",
   "execution_count": null,
   "id": "3f1229e9",
   "metadata": {},
   "outputs": [],
   "source": []
  },
  {
   "cell_type": "code",
   "execution_count": null,
   "id": "35cc137d",
   "metadata": {},
   "outputs": [],
   "source": []
  },
  {
   "cell_type": "code",
   "execution_count": null,
   "id": "24026dc5",
   "metadata": {},
   "outputs": [],
   "source": []
  },
  {
   "cell_type": "code",
   "execution_count": null,
   "id": "8eab4b78",
   "metadata": {},
   "outputs": [],
   "source": []
  },
  {
   "cell_type": "code",
   "execution_count": null,
   "id": "356b5ccd",
   "metadata": {},
   "outputs": [],
   "source": []
  },
  {
   "cell_type": "code",
   "execution_count": null,
   "id": "54389ad8",
   "metadata": {},
   "outputs": [],
   "source": []
  },
  {
   "cell_type": "code",
   "execution_count": null,
   "id": "274d6026",
   "metadata": {},
   "outputs": [],
   "source": []
  },
  {
   "cell_type": "code",
   "execution_count": null,
   "id": "5361d26a",
   "metadata": {},
   "outputs": [],
   "source": []
  },
  {
   "cell_type": "code",
   "execution_count": null,
   "id": "00c947ba",
   "metadata": {},
   "outputs": [],
   "source": []
  },
  {
   "cell_type": "code",
   "execution_count": null,
   "id": "6426a582",
   "metadata": {},
   "outputs": [],
   "source": []
  },
  {
   "cell_type": "code",
   "execution_count": null,
   "id": "e082bb06",
   "metadata": {},
   "outputs": [],
   "source": []
  },
  {
   "cell_type": "code",
   "execution_count": null,
   "id": "e4762a84",
   "metadata": {},
   "outputs": [],
   "source": []
  },
  {
   "cell_type": "code",
   "execution_count": null,
   "id": "f0424f5b",
   "metadata": {},
   "outputs": [],
   "source": []
  },
  {
   "cell_type": "code",
   "execution_count": null,
   "id": "a4459b47",
   "metadata": {},
   "outputs": [],
   "source": []
  }
 ],
 "metadata": {
  "kernelspec": {
   "display_name": "Python 3 (ipykernel)",
   "language": "python",
   "name": "python3"
  },
  "language_info": {
   "codemirror_mode": {
    "name": "ipython",
    "version": 3
   },
   "file_extension": ".py",
   "mimetype": "text/x-python",
   "name": "python",
   "nbconvert_exporter": "python",
   "pygments_lexer": "ipython3",
   "version": "3.11.3"
  }
 },
 "nbformat": 4,
 "nbformat_minor": 5
}
